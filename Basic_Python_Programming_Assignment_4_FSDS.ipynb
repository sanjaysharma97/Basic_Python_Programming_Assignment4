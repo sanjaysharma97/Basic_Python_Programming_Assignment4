{
 "cells": [
  {
   "cell_type": "markdown",
   "id": "65accfa4",
   "metadata": {},
   "source": [
    "# 1. Write a Python Program to Find the Factorial of a Number?\n",
    "\n",
    "ANSWER-"
   ]
  },
  {
   "cell_type": "code",
   "execution_count": 1,
   "id": "129430ae",
   "metadata": {},
   "outputs": [
    {
     "name": "stdout",
     "output_type": "stream",
     "text": [
      "enter the number you want: 7\n",
      "the factorial of given number 7 is  5040\n"
     ]
    }
   ],
   "source": [
    "def factorial(n):\n",
    "    if n==0 or n<0:\n",
    "        return 1\n",
    "    else:\n",
    "        return n*factorial(n-1)\n",
    "n=int(input(\"enter the number you want: \"))\n",
    "f=factorial(n)\n",
    "print(f\"the factorial of given number {n} is  {f}\")"
   ]
  },
  {
   "cell_type": "markdown",
   "id": "7e8032a3",
   "metadata": {},
   "source": [
    "# 2. Write a Python Program to Display the multiplication Table?\n",
    "\n",
    "ANSWER-"
   ]
  },
  {
   "cell_type": "code",
   "execution_count": 2,
   "id": "1085ca58",
   "metadata": {},
   "outputs": [
    {
     "name": "stdout",
     "output_type": "stream",
     "text": [
      "enter the number : 13\n",
      "enter the entries you want: 20\n",
      "13 X 1 = 13\n",
      "13 X 2 = 26\n",
      "13 X 3 = 39\n",
      "13 X 4 = 52\n",
      "13 X 5 = 65\n",
      "13 X 6 = 78\n",
      "13 X 7 = 91\n",
      "13 X 8 = 104\n",
      "13 X 9 = 117\n",
      "13 X 10 = 130\n",
      "13 X 11 = 143\n",
      "13 X 12 = 156\n",
      "13 X 13 = 169\n",
      "13 X 14 = 182\n",
      "13 X 15 = 195\n",
      "13 X 16 = 208\n",
      "13 X 17 = 221\n",
      "13 X 18 = 234\n",
      "13 X 19 = 247\n",
      "13 X 20 = 260\n"
     ]
    }
   ],
   "source": [
    "def generate_table(base,values):\n",
    "    for i in range(1,values+1):\n",
    "        print(f'{base} X {i} = {base*i}')\n",
    "num=int(input(\"enter the number : \"))\n",
    "values=int(input(\"enter the entries you want: \"))\n",
    "generate_table(num,values)"
   ]
  },
  {
   "cell_type": "markdown",
   "id": "fc79120e",
   "metadata": {},
   "source": [
    "# 3. Write a Python Program to Print the Fibonacci sequence?\n",
    "\n",
    "ANSWER-"
   ]
  },
  {
   "cell_type": "code",
   "execution_count": 6,
   "id": "7401f82a",
   "metadata": {},
   "outputs": [
    {
     "name": "stdout",
     "output_type": "stream",
     "text": [
      "Enter the no of fibonacci sequences you want? 50\n",
      "The First 50 fibonacci series are:  [0, 1, 1, 2, 3, 5, 8, 13, 21, 34, 55, 89, 144, 233, 377, 610, 987, 1597, 2584, 4181, 6765, 10946, 17711, 28657, 46368, 75025, 121393, 196418, 317811, 514229, 832040, 1346269, 2178309, 3524578, 5702887, 9227465, 14930352, 24157817, 39088169, 63245986, 102334155, 165580141, 267914296, 433494437, 701408733, 1134903170, 1836311903, 2971215073, 4807526976, 7778742049]\n"
     ]
    }
   ],
   "source": [
    "num = int(input('Enter the no of fibonacci sequences you want? '))\n",
    "starting_list = [0,1]\n",
    "if num < 0:\n",
    "    print('Fibonacci Numbers are not available for Negative Numbers')\n",
    "elif num <= 2 and num >= 0:\n",
    "    print(starting_list)\n",
    "else:\n",
    "    for i in range(num):\n",
    "        if i>= 2:\n",
    "            starting_list.append(starting_list[i-1]+starting_list[i-2])\n",
    "    print(f'The First {num} fibonacci series are: ',starting_list)"
   ]
  },
  {
   "cell_type": "markdown",
   "id": "ff54ed57",
   "metadata": {},
   "source": [
    "# 4. Write a Python Program to Check Armstrong Number?\n",
    "\n",
    "ANSWER-"
   ]
  },
  {
   "cell_type": "code",
   "execution_count": 14,
   "id": "001e090f",
   "metadata": {},
   "outputs": [
    {
     "name": "stdout",
     "output_type": "stream",
     "text": [
      "enter a number: 1634\n",
      "Given number is an Armstrong number \n"
     ]
    }
   ],
   "source": [
    "num=int(input(\"enter a number: \"))\n",
    "L=len(str(num))\n",
    "sum=0\n",
    "temp=num\n",
    "while temp>0:\n",
    "    digit=temp%10\n",
    "    sum+=digit**L\n",
    "    temp//=10\n",
    "if num==sum:\n",
    "    print(\"Given number is an Armstrong number \")\n",
    "else:\n",
    "    print(\"Given number is not an Armstrong number \")"
   ]
  },
  {
   "cell_type": "markdown",
   "id": "c3f99552",
   "metadata": {},
   "source": [
    "# 5. Write a Python Program to Find Armstrong Number in an Interval?\n",
    "\n",
    "ANSWER-"
   ]
  },
  {
   "cell_type": "code",
   "execution_count": 29,
   "id": "b848935b",
   "metadata": {},
   "outputs": [
    {
     "name": "stdout",
     "output_type": "stream",
     "text": [
      "enter the lower value: 1\n",
      "enter the upper value: 3000\n",
      "1\n",
      "2\n",
      "3\n",
      "4\n",
      "5\n",
      "6\n",
      "7\n",
      "8\n",
      "9\n",
      "153\n",
      "370\n",
      "371\n",
      "407\n",
      "1634\n"
     ]
    }
   ],
   "source": [
    "lower_interval=int(input(\"enter the lower value: \"))\n",
    "upper_interval=int(input(\"enter the upper value: \"))\n",
    "if lower_interval>upper_interval:\n",
    "    print(\"upper interval must be greater than lower interval\")\n",
    "else:\n",
    "    for i in range(lower_interval,upper_interval+1):\n",
    "        L=len(str(i))\n",
    "        sum=0\n",
    "        temp=i\n",
    "        while temp>0:\n",
    "            digit=temp%10\n",
    "            sum+=digit**L\n",
    "            temp//=10\n",
    "        if i==sum:\n",
    "            print(i)"
   ]
  },
  {
   "cell_type": "markdown",
   "id": "55c6c9f3",
   "metadata": {},
   "source": [
    "# 6. Write a Python Program to Find the Sum of Natural Numbers?\n",
    "\n",
    "ANSWER-"
   ]
  },
  {
   "cell_type": "code",
   "execution_count": 37,
   "id": "84a7f4df",
   "metadata": {},
   "outputs": [
    {
     "name": "stdout",
     "output_type": "stream",
     "text": [
      "enter the number: 40\n",
      "sum of 40 natural numbers is 820.0\n"
     ]
    }
   ],
   "source": [
    "def SumOfNaturalNumbers(n):\n",
    "    sum=(n*(n+1)/2)\n",
    "    print(f\"sum of {n} natural numbers is {sum}\")\n",
    "n=int(input(\"enter the number: \"))\n",
    "SumOfNaturalNumbers(n)"
   ]
  },
  {
   "cell_type": "code",
   "execution_count": null,
   "id": "a8831469",
   "metadata": {},
   "outputs": [],
   "source": []
  }
 ],
 "metadata": {
  "kernelspec": {
   "display_name": "Python 3 (ipykernel)",
   "language": "python",
   "name": "python3"
  },
  "language_info": {
   "codemirror_mode": {
    "name": "ipython",
    "version": 3
   },
   "file_extension": ".py",
   "mimetype": "text/x-python",
   "name": "python",
   "nbconvert_exporter": "python",
   "pygments_lexer": "ipython3",
   "version": "3.9.12"
  }
 },
 "nbformat": 4,
 "nbformat_minor": 5
}
